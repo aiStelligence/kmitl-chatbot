{
 "cells": [
  {
   "cell_type": "code",
   "execution_count": 1,
   "metadata": {},
   "outputs": [],
   "source": [
    "from PyPDF2 import PdfReader\n",
    "from langchain.embeddings.openai import OpenAIEmbeddings\n",
    "from langchain.text_splitter import CharacterTextSplitter\n",
    "from langchain.vectorstores import FAISS\n",
    "from typing_extensions import Concatenate\n",
    "from langchain_openai import ChatOpenAI\n",
    "from langchain.chains.question_answering import load_qa_chain\n",
    "from langchain.llms import OpenAI"
   ]
  },
  {
   "cell_type": "code",
   "execution_count": 2,
   "metadata": {},
   "outputs": [
    {
     "name": "stderr",
     "output_type": "stream",
     "text": [
      "c:\\Users\\(Ai)AiSukmoren\\Desktop\\KMITL-present\\.venv\\lib\\site-packages\\langchain_core\\_api\\deprecation.py:139: LangChainDeprecationWarning: The class `OpenAIEmbeddings` was deprecated in LangChain 0.0.9 and will be removed in 0.3.0. An updated version of the class exists in the langchain-openai package and should be used instead. To use it run `pip install -U langchain-openai` and import as `from langchain_openai import OpenAIEmbeddings`.\n",
      "  warn_deprecated(\n"
     ]
    }
   ],
   "source": [
    "llm = ChatOpenAI(\n",
    "    api_key='sk-proj-gfA9WQMdhwOmo2lOMFtAT3BlbkFJ9qwC52ExKO4FTTatmUNH',\n",
    "    model='gpt-4o', \n",
    ")\n",
    "\n",
    "embedding = OpenAIEmbeddings(\n",
    "    api_key='sk-proj-gfA9WQMdhwOmo2lOMFtAT3BlbkFJ9qwC52ExKO4FTTatmUNH',\n",
    "    model='text-embedding-ada-002'\n",
    ")"
   ]
  },
  {
   "cell_type": "code",
   "execution_count": null,
   "metadata": {},
   "outputs": [],
   "source": [
    "pdf = PdfReader(r'C:\\Users\\(Ai)AiSukmoren\\Desktop\\KMITL-present\\data\\Tesla.pdf')"
   ]
  },
  {
   "cell_type": "code",
   "execution_count": 3,
   "metadata": {},
   "outputs": [],
   "source": [
    "pdf = PdfReader(r'C:\\Users\\(Ai)AiSukmoren\\Desktop\\KMITL-present\\data\\Chap6.pdf')"
   ]
  },
  {
   "cell_type": "code",
   "execution_count": 4,
   "metadata": {},
   "outputs": [],
   "source": [
    "# read text from pdf\n",
    "raw_text = ''\n",
    "for i, page in enumerate(pdf.pages):\n",
    "    content = page.extract_text()\n",
    "    if content:\n",
    "        raw_text += content"
   ]
  },
  {
   "cell_type": "code",
   "execution_count": null,
   "metadata": {},
   "outputs": [],
   "source": [
    "# We need to split the text using Character Text Split such that it sshould not increse token size\n",
    "text_splitter = CharacterTextSplitter(\n",
    "    separator = \"\\n\",\n",
    "    chunk_size = 800,\n",
    "    chunk_overlap  = 200,\n",
    "    length_function = len,\n",
    ")\n",
    "texts = text_splitter.split_text(raw_text)\n",
    "len(texts)"
   ]
  },
  {
   "cell_type": "code",
   "execution_count": null,
   "metadata": {},
   "outputs": [],
   "source": [
    "document_search = FAISS.from_texts(texts, embedding)"
   ]
  },
  {
   "cell_type": "code",
   "execution_count": null,
   "metadata": {},
   "outputs": [],
   "source": [
    "chain = load_qa_chain(llm, chain_type=\"stuff\")"
   ]
  },
  {
   "cell_type": "code",
   "execution_count": null,
   "metadata": {},
   "outputs": [],
   "source": [
    "query = \"when does Engineering Development\tProgram occur?\"\n",
    "docs = document_search.similarity_search(query)\n",
    "chain.run(input_documents=docs, question=query)"
   ]
  },
  {
   "cell_type": "code",
   "execution_count": null,
   "metadata": {},
   "outputs": [],
   "source": [
    "def process_pdf_to_faiss_search(pdf_path, embedding_model):\n",
    "    # Read the PDF file\n",
    "    pdf = PdfReader(pdf_path)\n",
    "    \n",
    "    # Extract text from the PDF\n",
    "    raw_text = ''\n",
    "    for page in pdf.pages:\n",
    "        content = page.extract_text()\n",
    "        if content:\n",
    "            raw_text += content\n",
    "    \n",
    "    # Split the text using Character Text Splitter\n",
    "    text_splitter = CharacterTextSplitter(\n",
    "        separator=\"\\n\",\n",
    "        chunk_size=800,\n",
    "        chunk_overlap=200,\n",
    "        length_function=len,\n",
    "    )\n",
    "    texts = text_splitter.split_text(raw_text)\n",
    "    \n",
    "    # Create FAISS document search\n",
    "    document_search = FAISS.from_texts(texts, embedding_model)\n",
    "    \n",
    "    # Save the FAISS index locally\n",
    "    document_search.save_local(\"faiss_index\")"
   ]
  },
  {
   "cell_type": "code",
   "execution_count": null,
   "metadata": {},
   "outputs": [],
   "source": [
    "from langchain.vectorstores import FAISS\n",
    "from langchain.chains.question_answering import load_qa_chain\n",
    "\n",
    "# Load the FAISS index with allow_dangerous_deserialization set to True\n",
    "index_path = r\"C:\\Users\\(Ai)AiSukmoren\\Desktop\\KMITL-present\\faiss_index\"\n",
    "document_search = FAISS.load_local(index_path, embedding, allow_dangerous_deserialization=True)\n",
    "\n",
    "# Define your query\n",
    "query = \"what the section olar Energy Offerings says\"\n",
    "\n",
    "# Perform a similarity search\n",
    "docs = document_search.similarity_search(query)\n",
    "\n",
    "# Load a QA chain\n",
    "chain = load_qa_chain(llm, chain_type=\"stuff\")\n",
    "\n",
    "# Run the QA chain\n",
    "answer = chain.run(input_documents=docs, question=query)\n",
    "\n",
    "print(\"Answer:\", answer)\n"
   ]
  },
  {
   "cell_type": "code",
   "execution_count": null,
   "metadata": {},
   "outputs": [],
   "source": [
    "def gen_rag_answer(query:str)->str:\n",
    "    # Load the FAISS index with allow_dangerous_deserialization set to True\n",
    "    index_path = r\"C:\\Users\\(Ai)AiSukmoren\\Desktop\\KMITL-present\\faiss_index\"\n",
    "    document_search = FAISS.load_local(index_path, embedding, allow_dangerous_deserialization=True)\n",
    "    \n",
    "    # Perform a similarity search\n",
    "    docs = document_search.similarity_search(query)\n",
    "\n",
    "    # Load a QA chain\n",
    "    chain = load_qa_chain(llm, chain_type=\"stuff\")\n",
    "\n",
    "    # Run the QA chain\n",
    "    answer = chain.run(input_documents=docs, question=query)\n",
    "\n",
    "    return answer"
   ]
  },
  {
   "cell_type": "code",
   "execution_count": null,
   "metadata": {},
   "outputs": [],
   "source": [
    "res = gen_rag_answer('what the section olar Energy Offerings says')"
   ]
  },
  {
   "cell_type": "code",
   "execution_count": null,
   "metadata": {},
   "outputs": [],
   "source": [
    "print(res)"
   ]
  }
 ],
 "metadata": {
  "kernelspec": {
   "display_name": ".venv",
   "language": "python",
   "name": "python3"
  },
  "language_info": {
   "codemirror_mode": {
    "name": "ipython",
    "version": 3
   },
   "file_extension": ".py",
   "mimetype": "text/x-python",
   "name": "python",
   "nbconvert_exporter": "python",
   "pygments_lexer": "ipython3",
   "version": "3.9.13"
  }
 },
 "nbformat": 4,
 "nbformat_minor": 2
}
