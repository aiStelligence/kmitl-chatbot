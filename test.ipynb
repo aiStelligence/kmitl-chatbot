{
 "cells": [
  {
   "cell_type": "code",
   "execution_count": 3,
   "metadata": {},
   "outputs": [],
   "source": [
    "from dotenv import load_dotenv\n",
    "from langchain_openai import AzureChatOpenAI, ChatOpenAI\n",
    "from langchain.schema.output_parser import StrOutputParser\n",
    "from langchain.graphs import Neo4jGraph\n",
    "from operator import itemgetter\n",
    "# Load environment variables from .env file\n",
    "from functools import wraps\n",
    "import time\n",
    "import os\n",
    "import time  \n",
    "load_dotenv()\n",
    "\n",
    "AZURE_OPENAI_ENDPOINT=os.getenv(\"AZURE_OPENAI_ENDPOINT\")\n",
    "AZURE_OPENAI_API_KEY=os.getenv(\"AZURE_OPENAI_KEY\")\n",
    "\n",
    "\n",
    "# llm = AzureChatOpenAI(\n",
    "#     azure_endpoint=AZURE_OPENAI_ENDPOINT,\n",
    "#     openai_api_version='2023-03-15-preview',\n",
    "#     azure_deployment='gpt-4',\n",
    "#     openai_api_key=AZURE_OPENAI_API_KEY,\n",
    "# )\n",
    "\n",
    "llm = ChatOpenAI(\n",
    "    api_key='sk-proj-gfA9WQMdhwOmo2lOMFtAT3BlbkFJ9qwC52ExKO4FTTatmUNH',\n",
    "    model='gpt-4o', \n",
    ")\n",
    "\n",
    "\n",
    "def FuncTimeRet(func):\n",
    "    @wraps(func)\n",
    "    def wrapper(*args, **kwargs):\n",
    "        ts = time.perf_counter()\n",
    "        ret = func(*args, **kwargs)\n",
    "        te = time.perf_counter()\n",
    "        print(f'>>-- {func.__name__}: takes {te - ts:0.4f} seconds --<<')\n",
    "        return ret\n",
    "    return wrapper"
   ]
  },
  {
   "cell_type": "code",
   "execution_count": 2,
   "metadata": {},
   "outputs": [
    {
     "data": {
      "text/plain": [
       "AIMessage(content='Hello! How can I assist you today?')"
      ]
     },
     "execution_count": 2,
     "metadata": {},
     "output_type": "execute_result"
    }
   ],
   "source": [
    "llm.invoke('hi')"
   ]
  },
  {
   "cell_type": "code",
   "execution_count": 5,
   "metadata": {},
   "outputs": [
    {
     "data": {
      "text/plain": [
       "['6.3.9600.21503',\n",
       " '6.3.9600.21503',\n",
       " '6.3.9600.21503',\n",
       " '6.3.9600.21503',\n",
       " '6.2.9200.24414',\n",
       " '6.2.9200.24414',\n",
       " '6.2.9200.24414',\n",
       " '6.2.9200.24414',\n",
       " '6.1.7601.26664',\n",
       " '6.1.7601.26664',\n",
       " '6.1.7601.26664',\n",
       " '6.1.7601.26664',\n",
       " '6.0.6003.22216',\n",
       " '6.0.6003.22216',\n",
       " '6.0.6003.22216',\n",
       " '6.0.6003.22216',\n",
       " '6.0.6003.22216',\n",
       " '6.0.6003.22216',\n",
       " '6.0.6003.22216',\n",
       " '6.0.6003.22216',\n",
       " '10.0.14393.6167',\n",
       " '10.0.14393.6167',\n",
       " '10.0.14393.6167',\n",
       " '10.0.14393.6167',\n",
       " '10.0.10240.20107',\n",
       " '10.0.10240.20107',\n",
       " '10.0.19045.3324',\n",
       " '10.0.19045.3324',\n",
       " '10.0.19045.3324',\n",
       " '10.0.22621.2134',\n",
       " '10.0.22621.2134',\n",
       " '10.0.19044.3324',\n",
       " '10.0.19044.3324',\n",
       " '10.0.19044.3324',\n",
       " '10.0.22000.2295',\n",
       " '10.0.22000.2295',\n",
       " '10.0.20348.1906',\n",
       " '10.0.20348.1903',\n",
       " '10.0.20348.1906',\n",
       " '10.0.20348.1903',\n",
       " '10.0.17763.4737',\n",
       " '10.0.17763.4737',\n",
       " '10.0.17763.4737',\n",
       " '10.0.17763.4737',\n",
       " '10.0.17763.4737']"
      ]
     },
     "execution_count": 5,
     "metadata": {},
     "output_type": "execute_result"
    }
   ],
   "source": [
    "import pandas as pd\n",
    "\n",
    "# Load the CSV file into a DataFrame\n",
    "df = pd.read_csv(r'C:\\Users\\(Ai)AiSukmoren\\Desktop\\internal-project-kg\\data\\CVE-2023-36906.csv')\n",
    "\n",
    "# Select the 'Build Number' column\n",
    "col_build_number = df['Build Number']\n",
    "\n",
    "# Transform the column into a list\n",
    "build_number_list = col_build_number.tolist()\n",
    "\n",
    "# Print the list (optional)\n",
    "build_number_list\n"
   ]
  },
  {
   "cell_type": "code",
   "execution_count": 2,
   "metadata": {},
   "outputs": [
    {
     "data": {
      "text/plain": [
       "0       6.3.9600.21503\n",
       "1       6.3.9600.21503\n",
       "2       6.3.9600.21503\n",
       "3       6.3.9600.21503\n",
       "4       6.2.9200.24414\n",
       "5       6.2.9200.24414\n",
       "6       6.2.9200.24414\n",
       "7       6.2.9200.24414\n",
       "8       6.1.7601.26664\n",
       "9       6.1.7601.26664\n",
       "10      6.1.7601.26664\n",
       "11      6.1.7601.26664\n",
       "12      6.0.6003.22216\n",
       "13      6.0.6003.22216\n",
       "14      6.0.6003.22216\n",
       "15      6.0.6003.22216\n",
       "16      6.0.6003.22216\n",
       "17      6.0.6003.22216\n",
       "18      6.0.6003.22216\n",
       "19      6.0.6003.22216\n",
       "20     10.0.14393.6167\n",
       "21     10.0.14393.6167\n",
       "22     10.0.14393.6167\n",
       "23     10.0.14393.6167\n",
       "24    10.0.10240.20107\n",
       "25    10.0.10240.20107\n",
       "26     10.0.19045.3324\n",
       "27     10.0.19045.3324\n",
       "28     10.0.19045.3324\n",
       "29     10.0.22621.2134\n",
       "30     10.0.22621.2134\n",
       "31     10.0.19044.3324\n",
       "32     10.0.19044.3324\n",
       "33     10.0.19044.3324\n",
       "34     10.0.22000.2295\n",
       "35     10.0.22000.2295\n",
       "36     10.0.20348.1906\n",
       "37     10.0.20348.1903\n",
       "38     10.0.20348.1906\n",
       "39     10.0.20348.1903\n",
       "40     10.0.17763.4737\n",
       "41     10.0.17763.4737\n",
       "42     10.0.17763.4737\n",
       "43     10.0.17763.4737\n",
       "44     10.0.17763.4737\n",
       "Name: Build Number, dtype: object"
      ]
     },
     "execution_count": 2,
     "metadata": {},
     "output_type": "execute_result"
    }
   ],
   "source": [
    "col_build_number"
   ]
  }
 ],
 "metadata": {
  "kernelspec": {
   "display_name": ".venv",
   "language": "python",
   "name": "python3"
  },
  "language_info": {
   "codemirror_mode": {
    "name": "ipython",
    "version": 3
   },
   "file_extension": ".py",
   "mimetype": "text/x-python",
   "name": "python",
   "nbconvert_exporter": "python",
   "pygments_lexer": "ipython3",
   "version": "3.9.13"
  }
 },
 "nbformat": 4,
 "nbformat_minor": 2
}
